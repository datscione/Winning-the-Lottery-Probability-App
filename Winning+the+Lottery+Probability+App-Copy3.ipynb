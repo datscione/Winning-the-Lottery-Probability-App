{
 "cells": [
  {
   "cell_type": "markdown",
   "metadata": {},
   "source": [
    "Estimate Chance of Hitting it Big in the Lottery\n",
    "\n",
    "In this project we will code for an app that allows lottery addicts to estimate their chances of winning the 6/49 lottery. This information will be used as a resource by the medical institute to help lottery players make more informed choices before they buy tickets. "
   ]
  },
  {
   "cell_type": "code",
   "execution_count": 1,
   "metadata": {
    "collapsed": false,
    "scrolled": true
   },
   "outputs": [],
   "source": [
    "def factorial(n):\n",
    "    final_product = 1\n",
    "    for i in range(n, 0, -1):\n",
    "        final_product *= i\n",
    "    return final_product\n",
    "\n",
    "def combinations(n, k):\n",
    "    result = factorial(n) / (factorial(k)*(factorial(n - k)))\n",
    "    return result\n",
    "#Using the factorial and combinations functions, we will calculate \n",
    "#the probability of winning the lottery.\n",
    "def one_ticket_probability(six_uniq_numbs):\n",
    "    poss_outcomes = combinations(49, 6)\n",
    "    prob_one_tckt = (1 / poss_outcomes) * 100\n",
    "    print ('Your probability of winning this lottery is {0:1%}. These odds are 1 in {1:,} submissions.'\n",
    "            .format(prob_one_tckt, int(poss_outcomes)))"
   ]
  },
  {
   "cell_type": "code",
   "execution_count": 2,
   "metadata": {
    "collapsed": false
   },
   "outputs": [
    {
     "name": "stdout",
     "output_type": "stream",
     "text": [
      "Your probability of winning this lottery is 0.000715%. These odds are 1 in 13,983,816 submissions.\n",
      "Your probability of winning this lottery is 0.000715%. These odds are 1 in 13,983,816 submissions.\n"
     ]
    }
   ],
   "source": [
    "#Test the probability function\n",
    "numbers = [1,2,4,6,7,3]\n",
    "guess = one_ticket_probability(numbers)\n",
    "numbers = [45, 3, 7, 5, 23, 21]\n",
    "guess = one_ticket_probability(numbers)"
   ]
  },
  {
   "cell_type": "markdown",
   "metadata": {},
   "source": [
    "We've written a function that takes the six lottery numbers and returns the probability of winning. This will give the buyer some numbers and odds to consider before making the purchase."
   ]
  },
  {
   "cell_type": "code",
   "execution_count": 3,
   "metadata": {
    "collapsed": true
   },
   "outputs": [],
   "source": [
    "import pandas as pd\n",
    "info = pd.read_csv('649.csv')"
   ]
  },
  {
   "cell_type": "code",
   "execution_count": 4,
   "metadata": {
    "collapsed": false
   },
   "outputs": [
    {
     "data": {
      "text/plain": [
       "(3665, 11)"
      ]
     },
     "execution_count": 4,
     "metadata": {},
     "output_type": "execute_result"
    }
   ],
   "source": [
    "info.shape"
   ]
  },
  {
   "cell_type": "markdown",
   "metadata": {},
   "source": [
    "The dataframe has 3665 rows and 11 columns. Let's look at the first and last three rows to become familiar with the database."
   ]
  },
  {
   "cell_type": "code",
   "execution_count": 5,
   "metadata": {
    "collapsed": false
   },
   "outputs": [
    {
     "name": "stdout",
     "output_type": "stream",
     "text": [
      "   PRODUCT  DRAW NUMBER  SEQUENCE NUMBER  DRAW DATE  NUMBER DRAWN 1  \\\n",
      "0      649            1                0  6/12/1982               3   \n",
      "1      649            2                0  6/19/1982               8   \n",
      "2      649            3                0  6/26/1982               1   \n",
      "\n",
      "   NUMBER DRAWN 2  NUMBER DRAWN 3  NUMBER DRAWN 4  NUMBER DRAWN 5  \\\n",
      "0              11              12              14              41   \n",
      "1              33              36              37              39   \n",
      "2               6              23              24              27   \n",
      "\n",
      "   NUMBER DRAWN 6  BONUS NUMBER  \n",
      "0              43            13  \n",
      "1              41             9  \n",
      "2              39            34  \n",
      "      PRODUCT  DRAW NUMBER  SEQUENCE NUMBER  DRAW DATE  NUMBER DRAWN 1  \\\n",
      "3662      649         3589                0  6/13/2018               6   \n",
      "3663      649         3590                0  6/16/2018               2   \n",
      "3664      649         3591                0  6/20/2018              14   \n",
      "\n",
      "      NUMBER DRAWN 2  NUMBER DRAWN 3  NUMBER DRAWN 4  NUMBER DRAWN 5  \\\n",
      "3662              22              24              31              32   \n",
      "3663              15              21              31              38   \n",
      "3664              24              31              35              37   \n",
      "\n",
      "      NUMBER DRAWN 6  BONUS NUMBER  \n",
      "3662              34            16  \n",
      "3663              49             8  \n",
      "3664              48            17  \n"
     ]
    }
   ],
   "source": [
    "print(info.head(3))\n",
    "print(info.tail(3))"
   ]
  },
  {
   "cell_type": "markdown",
   "metadata": {},
   "source": [
    "In order to consider if it's worthwhile to play the lottery, we will look at historical lottery drawings to help the user determine if they could have won by now.The function below does so using data from the 6/49 lottery drawing from 1982 to 2018."
   ]
  },
  {
   "cell_type": "code",
   "execution_count": 6,
   "metadata": {
    "collapsed": false
   },
   "outputs": [
    {
     "data": {
      "text/plain": [
       "0    {3, 41, 11, 12, 43, 14}\n",
       "1    {33, 36, 37, 39, 8, 41}\n",
       "2     {1, 6, 39, 23, 24, 27}\n",
       "dtype: object"
      ]
     },
     "execution_count": 6,
     "metadata": {},
     "output_type": "execute_result"
    }
   ],
   "source": [
    "#Extract the six winning numbers from the historical 6/49 dataframe\n",
    "def extract_numbers(row):\n",
    "    row = row[4:10] #select columns with the six drawn numbers\n",
    "    row = set(row.values) #convert the numbers to a set\n",
    "    return row\n",
    "    \n",
    "winning_lottery = info.apply(extract_numbers, axis=1)  \n",
    "winning_lottery.head(3)"
   ]
  },
  {
   "cell_type": "code",
   "execution_count": 7,
   "metadata": {
    "collapsed": false
   },
   "outputs": [],
   "source": [
    "def check_historical_occurrence(player_numbers, winning_lottery):\n",
    "    numbers_guessed = set(player_numbers)\n",
    "    compare = numbers_guessed == winning_lottery\n",
    "    comparison = compare.sum()\n",
    "    print('''Your lottery numbers {0} matched past ones {1} times.The \n",
    "          odds of winning the big prize in the next drawing with\n",
    "          that combination is 1 in 13,983,816 submissions.'''.format(numbers_guessed, comparison))\n"
   ]
  },
  {
   "cell_type": "markdown",
   "metadata": {},
   "source": [
    "Now we will test our historical occurrences function to see how well it works."
   ]
  },
  {
   "cell_type": "code",
   "execution_count": 8,
   "metadata": {
    "collapsed": false
   },
   "outputs": [
    {
     "name": "stdout",
     "output_type": "stream",
     "text": [
      "Your lottery numbers {34, 2, 6, 7, 43, 12} matched past ones 0 times.The \n",
      "          odds of winning the big prize in the next drawing with\n",
      "          that combination is 1 in 13,983,816 submissions.\n"
     ]
    }
   ],
   "source": [
    "guess = [6, 34, 43, 2, 12, 7]\n",
    "check_historical_occurrence(guess, winning_lottery)"
   ]
  },
  {
   "cell_type": "code",
   "execution_count": 9,
   "metadata": {
    "collapsed": false
   },
   "outputs": [
    {
     "name": "stdout",
     "output_type": "stream",
     "text": [
      "Your lottery numbers {1, 2, 3, 4, 5, 6} matched past ones 0 times.The \n",
      "          odds of winning the big prize in the next drawing with\n",
      "          that combination is 1 in 13,983,816 submissions.\n"
     ]
    }
   ],
   "source": [
    "guess = [1,2,3,4,5,6]\n",
    "check_historical_occurrence(guess, winning_lottery)"
   ]
  },
  {
   "cell_type": "markdown",
   "metadata": {},
   "source": [
    "Do the odds of winning change with more tickets purchased? Let's see."
   ]
  },
  {
   "cell_type": "code",
   "execution_count": 10,
   "metadata": {
    "collapsed": false
   },
   "outputs": [],
   "source": [
    "def multi_ticket_probability(no_tckts):\n",
    "    poss_outcomes = combinations(49, 6)\n",
    "    multi_tix_prob = (no_tckts / poss_outcomes) * 100\n",
    "    print('''The likelihood of your winning the lottery from purchasing {:,} ticket(s) is {:.6f}%. This is equivalent to {:,} out of {:,} different tickets.'''.format(no_tckts, multi_tix_prob, no_tckts, int(poss_outcomes)))"
   ]
  },
  {
   "cell_type": "code",
   "execution_count": 11,
   "metadata": {
    "collapsed": false
   },
   "outputs": [
    {
     "name": "stdout",
     "output_type": "stream",
     "text": [
      "The likelihood of your winning the lottery from purchasing 1 ticket(s) is 0.000007%. This is equivalent to 1 out of 13,983,816 different tickets.\n",
      "None\n",
      "The likelihood of your winning the lottery from purchasing 10 ticket(s) is 0.000072%. This is equivalent to 10 out of 13,983,816 different tickets.\n",
      "None\n",
      "The likelihood of your winning the lottery from purchasing 100 ticket(s) is 0.000715%. This is equivalent to 100 out of 13,983,816 different tickets.\n",
      "None\n",
      "The likelihood of your winning the lottery from purchasing 10,000 ticket(s) is 0.071511%. This is equivalent to 10,000 out of 13,983,816 different tickets.\n",
      "None\n",
      "The likelihood of your winning the lottery from purchasing 1,000,000 ticket(s) is 7.151124%. This is equivalent to 1,000,000 out of 13,983,816 different tickets.\n",
      "None\n",
      "The likelihood of your winning the lottery from purchasing 6,991,908 ticket(s) is 50.000000%. This is equivalent to 6,991,908 out of 13,983,816 different tickets.\n",
      "None\n",
      "The likelihood of your winning the lottery from purchasing 13,983,816 ticket(s) is 100.000000%. This is equivalent to 13,983,816 out of 13,983,816 different tickets.\n",
      "None\n"
     ]
    }
   ],
   "source": [
    "test_no_tix = [1, 10, 100, 10000, 1000000, 6991908, 13983816]\n",
    "\n",
    "for test in test_no_tix:\n",
    "    print(multi_ticket_probability(test))"
   ]
  },
  {
   "cell_type": "markdown",
   "metadata": {},
   "source": [
    "We see above that the more tickets the player purchases, the greater their likelihood of winning the lottery. If they purchased all of the possible combinations (13,983,816) then the player is guaranteed to win. So our code makes sense."
   ]
  },
  {
   "cell_type": "code",
   "execution_count": 46,
   "metadata": {
    "collapsed": false
   },
   "outputs": [],
   "source": [
    "def probability_less_6(numbr):\n",
    "    numbr_combn = int(combinations(6, numbr))\n",
    "    numbr_combn_remaining = int(combinations(43, (6 - numbr)))\n",
    "    total_no_succ_outcme = numbr_combn * numbr_combn_remaining\n",
    "    total_poss_outcme = combinations(49, 6) #in this lottery there are 49 numbers and the player chooses 6 numbers from the 49 \n",
    "    prob = (total_no_succ_outcme / total_poss_outcme) * 100 \n",
    "    print('''The likelihood of your matching {:} numbers in your lottery ticket is {:.9f}%.'''.format(numbr, prob))"
   ]
  },
  {
   "cell_type": "code",
   "execution_count": 47,
   "metadata": {
    "collapsed": false
   },
   "outputs": [
    {
     "name": "stdout",
     "output_type": "stream",
     "text": [
      "The likelihood of your matching 2 numbers in your lottery ticket is 13.237802900%.\n",
      "The likelihood of your matching 3 numbers in your lottery ticket is 1.765040387%.\n",
      "The likelihood of your matching 4 numbers in your lottery ticket is 0.096861972%.\n",
      "The likelihood of your matching 5 numbers in your lottery ticket is 0.001844990%.\n"
     ]
    }
   ],
   "source": [
    "for nmbr in [2, 3, 4, 5]:\n",
    "    probability_less_6(nmbr)"
   ]
  },
  {
   "cell_type": "markdown",
   "metadata": {
    "collapsed": true
   },
   "source": [
    "We showed the likelihood for a player to match 2 to 5 numbers on a purchased ticket with the winning combination. In doing so, we considered the number of combinations possible and the fact that the player needed to get x numbers in the right order out of all possibilities. Our results make sense since the fewer numbers the player has to match, the more likely they are to match the numbers (i.e. it is easier to match two numbers than four)."
   ]
  }
 ],
 "metadata": {
  "kernelspec": {
   "display_name": "Python 3",
   "language": "python",
   "name": "python3"
  },
  "language_info": {
   "codemirror_mode": {
    "name": "ipython",
    "version": 3
   },
   "file_extension": ".py",
   "mimetype": "text/x-python",
   "name": "python",
   "nbconvert_exporter": "python",
   "pygments_lexer": "ipython3",
   "version": "3.4.3"
  }
 },
 "nbformat": 4,
 "nbformat_minor": 2
}
